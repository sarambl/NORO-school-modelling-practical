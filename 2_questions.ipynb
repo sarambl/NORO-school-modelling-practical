{
 "cells": [
  {
   "cell_type": "markdown",
   "id": "443e6ab3-7a5b-4b50-b729-73fac5c476fb",
   "metadata": {
    "tags": []
   },
   "source": [
    "## Tasks: "
   ]
  },
  {
   "cell_type": "markdown",
   "id": "8b6c95f0-eff1-480f-8aee-3035889f7cd4",
   "metadata": {},
   "source": [
    "Mainly, your task is to explore the CMIP6 data the way you would wish. The questions below are for inspiration only, and if you want to do something else instead, that's fine. \n",
    "\n",
    "**Tomorrow you'll get 5 min per group to show what you found to the rest.**"
   ]
  },
  {
   "cell_type": "markdown",
   "id": "3b6dafe3-8c36-443e-8857-86e371dee35d",
   "metadata": {},
   "source": [
    "1. Use the instructions in [practical_Bucareshti.ipynb](practical_Bucareshti.ipynb) to plot a timeseries of the global 'od550aer' for a couple of models for the historical simulation. Use the variable search (https://clipc-services.ceda.ac.uk/dreq/experiments.html) to check the definition of the variable. \n",
    "    - Do the models have anything in common? \n",
    "    - Can you see some periods stand out? \n",
    "\n",
    "2. Try to plot the map of the difference between the first 50 years of the period and the last 50 years. \n",
    "    - Are the changes where you would expect? Why? Why not? \n",
    "    \n",
    "3. Do the same with cloud optical depth (cod). Do you find the same patterns? Why? Why not? \n",
    "\n",
    "4. Explore the change in these parameters geographically over different time periods (make maps): What if you compare e.g. the average over 1850-1900 with 1970-1980? What about other differences? \n",
    "\n"
   ]
  }
 ],
 "metadata": {
  "kernelspec": {
   "display_name": "Python 3 (ipykernel)",
   "language": "python",
   "name": "python3"
  },
  "language_info": {
   "codemirror_mode": {
    "name": "ipython",
    "version": 3
   },
   "file_extension": ".py",
   "mimetype": "text/x-python",
   "name": "python",
   "nbconvert_exporter": "python",
   "pygments_lexer": "ipython3",
   "version": "3.11.5"
  }
 },
 "nbformat": 4,
 "nbformat_minor": 5
}
